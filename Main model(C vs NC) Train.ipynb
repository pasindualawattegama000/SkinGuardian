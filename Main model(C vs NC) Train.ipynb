{
  "cells": [
    {
      "cell_type": "markdown",
      "metadata": {
        "id": "DXNGsIqZwPCM"
      },
      "source": [
        "# 1st Model Training"
      ]
    },
    {
      "cell_type": "code",
      "execution_count": null,
      "metadata": {
        "id": "83jeHQoPwNEX"
      },
      "outputs": [],
      "source": [
        "import numpy as np\n",
        "\n",
        "# Load the X and Y arrays from the npy files\n",
        "Xdata = np.load(r'/content/drive/MyDrive/FYP/1st Model /NP arays/X.npz')\n",
        "X = Xdata['X']\n"
      ]
    },
    {
      "cell_type": "code",
      "execution_count": null,
      "metadata": {
        "id": "9sea5lb_wT0j"
      },
      "outputs": [],
      "source": [
        "Ydata = np.load(r'/content/drive/MyDrive/FYP/1st Model /NP arays/Y.npz')\n",
        "Y = Ydata['Y']"
      ]
    },
    {
      "cell_type": "code",
      "source": [
        "from google.colab import drive\n",
        "drive.mount('/content/drive')"
      ],
      "metadata": {
        "id": "Lq44tPJjVs_H"
      },
      "execution_count": null,
      "outputs": []
    },
    {
      "cell_type": "code",
      "execution_count": null,
      "metadata": {
        "colab": {
          "base_uri": "https://localhost:8080/"
        },
        "id": "70IFJjTVxC4S",
        "outputId": "edce881d-577b-4fb6-9113-014e320a12ac"
      },
      "outputs": [
        {
          "output_type": "execute_result",
          "data": {
            "text/plain": [
              "array([0, 0, 0, ..., 1, 0, 0], dtype=int32)"
            ]
          },
          "metadata": {},
          "execution_count": 4
        }
      ],
      "source": [
        "Y"
      ]
    },
    {
      "cell_type": "code",
      "source": [
        "from sklearn.model_selection import train_test_split\n",
        "from tensorflow.keras.preprocessing.image import ImageDataGenerator\n",
        "\n",
        "# Assuming 'X' is your images and 'y' is the corresponding labels (0 for non-cancerous, 1 for cancerous)\n",
        "# Replace 'X' and 'y' with your actual data\n",
        "X_train, X_test, y_train, y_test = train_test_split(X, Y, test_size=0.2, random_state=42)\n",
        "\n"
      ],
      "metadata": {
        "id": "_ToQ1FJJM4W9"
      },
      "execution_count": null,
      "outputs": []
    },
    {
      "cell_type": "code",
      "source": [
        "from tensorflow import keras\n",
        "from tensorflow.keras import layers\n",
        "from tensorflow.keras.layers import Conv2D, MaxPooling2D, Flatten, Dense, Dropout  # Import Dropout here\n",
        "\n",
        "# Define the CNN model\n",
        "model = keras.Sequential()\n",
        "\n",
        "# Add convolutional layers\n",
        "model.add(layers.Conv2D(256, (3, 3), activation='relu', input_shape=(200, 200, 3)))\n",
        "model.add(layers.MaxPooling2D((2, 2)))\n",
        "model.add(Dropout(0.3))\n",
        "\n",
        "model.add(layers.Conv2D(128, (3, 3), activation='relu'))\n",
        "model.add(layers.MaxPooling2D((2, 2)))\n",
        "model.add(Dropout(0.3))\n",
        "\n",
        "model.add(layers.Conv2D(64, (3, 3), activation='relu'))\n",
        "model.add(layers.MaxPooling2D((2, 2)))\n",
        "model.add(Dropout(0.3))\n",
        "\n",
        "# Flatten the output of the previous layer\n",
        "model.add(layers.Flatten())\n",
        "\n",
        "# Add dense layers\n",
        "model.add(layers.Dense(32))\n",
        "model.add(layers.Dense(2, activation='softmax'))  # Assuming 7 different cancer types\n",
        "\n",
        "# Compile the model\n",
        "model.compile(optimizer='adam', loss='sparse_categorical_crossentropy', metrics=['accuracy'])\n"
      ],
      "metadata": {
        "id": "ej_JrNTFM4dG"
      },
      "execution_count": null,
      "outputs": []
    },
    {
      "cell_type": "code",
      "source": [
        "Y"
      ],
      "metadata": {
        "colab": {
          "base_uri": "https://localhost:8080/",
          "height": 175
        },
        "id": "0RFs9umbXW2T",
        "outputId": "fea3ec46-4716-454f-be56-00ed3c547704"
      },
      "execution_count": null,
      "outputs": [
        {
          "output_type": "error",
          "ename": "NameError",
          "evalue": "name 'Y' is not defined",
          "traceback": [
            "\u001b[0;31m---------------------------------------------------------------------------\u001b[0m",
            "\u001b[0;31mNameError\u001b[0m                                 Traceback (most recent call last)",
            "\u001b[0;32m<ipython-input-1-c881daf1af41>\u001b[0m in \u001b[0;36m<cell line: 1>\u001b[0;34m()\u001b[0m\n\u001b[0;32m----> 1\u001b[0;31m \u001b[0mY\u001b[0m\u001b[0;34m\u001b[0m\u001b[0;34m\u001b[0m\u001b[0m\n\u001b[0m",
            "\u001b[0;31mNameError\u001b[0m: name 'Y' is not defined"
          ]
        }
      ]
    },
    {
      "cell_type": "code",
      "source": [
        "model.fit(X_train,y_train, epochs=10, batch_size=32, validation_data=(X_test, y_test))"
      ],
      "metadata": {
        "colab": {
          "base_uri": "https://localhost:8080/"
        },
        "id": "u8MAMnYNQDQq",
        "outputId": "b1b5b5c9-7903-4e24-e39c-dd43c66e384a"
      },
      "execution_count": null,
      "outputs": [
        {
          "output_type": "stream",
          "name": "stdout",
          "text": [
            "Epoch 1/10\n",
            "49/49 [==============================] - 992s 20s/step - loss: 0.5988 - accuracy: 0.7590 - val_loss: 0.3094 - val_accuracy: 0.8715\n",
            "Epoch 2/10\n",
            "49/49 [==============================] - 980s 20s/step - loss: 0.2360 - accuracy: 0.9126 - val_loss: 0.2510 - val_accuracy: 0.9049\n",
            "Epoch 3/10\n",
            "49/49 [==============================] - 982s 20s/step - loss: 0.1858 - accuracy: 0.9325 - val_loss: 0.1194 - val_accuracy: 0.9563\n",
            "Epoch 4/10\n",
            "49/49 [==============================] - 979s 20s/step - loss: 0.1662 - accuracy: 0.9402 - val_loss: 0.1963 - val_accuracy: 0.9460\n",
            "Epoch 5/10\n",
            "49/49 [==============================] - 958s 19s/step - loss: 0.1281 - accuracy: 0.9557 - val_loss: 0.0969 - val_accuracy: 0.9640\n",
            "Epoch 6/10\n",
            "49/49 [==============================] - 955s 20s/step - loss: 0.1757 - accuracy: 0.9299 - val_loss: 0.1958 - val_accuracy: 0.9537\n",
            "Epoch 7/10\n",
            "49/49 [==============================] - 970s 20s/step - loss: 0.1141 - accuracy: 0.9582 - val_loss: 0.1449 - val_accuracy: 0.9692\n",
            "Epoch 8/10\n",
            "49/49 [==============================] - 982s 20s/step - loss: 0.0744 - accuracy: 0.9743 - val_loss: 0.2048 - val_accuracy: 0.9280\n",
            "Epoch 9/10\n",
            "49/49 [==============================] - 977s 20s/step - loss: 0.0816 - accuracy: 0.9704 - val_loss: 0.0841 - val_accuracy: 0.9717\n",
            "Epoch 10/10\n",
            "49/49 [==============================] - 976s 20s/step - loss: 0.1109 - accuracy: 0.9589 - val_loss: 0.1340 - val_accuracy: 0.9614\n"
          ]
        },
        {
          "output_type": "execute_result",
          "data": {
            "text/plain": [
              "<keras.src.callbacks.History at 0x794604f8c850>"
            ]
          },
          "metadata": {},
          "execution_count": 8
        }
      ]
    },
    {
      "cell_type": "code",
      "execution_count": null,
      "metadata": {
        "id": "GzF_OIzuUn-Y"
      },
      "outputs": [],
      "source": [
        "model.save('/content/drive/MyDrive/Model1.keras')"
      ]
    },
    {
      "cell_type": "code",
      "source": [
        "from tensorflow import keras\n",
        "import cv2\n",
        "model = keras.models.load_model('/content/drive/MyDrive/Model1.keras')"
      ],
      "metadata": {
        "id": "r_-BVee5nPU9"
      },
      "execution_count": null,
      "outputs": []
    },
    {
      "cell_type": "code",
      "source": [],
      "metadata": {
        "id": "jXJDI2_PnPgi"
      },
      "execution_count": null,
      "outputs": []
    },
    {
      "cell_type": "code",
      "source": [
        "from sklearn.metrics import confusion_matrix, roc_curve, auc, classification_report\n",
        "import matplotlib.pyplot as plt\n",
        "\n",
        "# Predictions on test set\n",
        "y_pred = model.predict(X_test)\n",
        "\n",
        "# Convert predictions to class labels\n",
        "y_pred_classes = np.argmax(y_pred, axis=1)\n",
        "\n",
        "# Confusion Matrix\n",
        "cm = confusion_matrix(y_test, y_pred_classes)\n",
        "print(\"Confusion Matrix:\")\n",
        "print(cm)\n",
        "\n",
        "# Plot ROC curve and calculate AUC\n",
        "fpr, tpr, thresholds = roc_curve(y_test, y_pred[:,1])  # Assuming cancerous class is positive (index 1)\n",
        "roc_auc = auc(fpr, tpr)\n",
        "plt.figure()\n",
        "plt.plot(fpr, tpr, color='darkorange', lw=2, label='ROC curve (area = %0.2f)' % roc_auc)\n",
        "plt.plot([0, 1], [0, 1], color='navy', lw=2, linestyle='--')\n",
        "plt.xlim([0.0, 1.0])\n",
        "plt.ylim([0.0, 1.05])\n",
        "plt.xlabel('False Positive Rate')\n",
        "plt.ylabel('True Positive Rate')\n",
        "plt.title('Receiver Operating Characteristic (ROC) Curve')\n",
        "plt.legend(loc=\"lower right\")\n",
        "plt.show()\n",
        "\n",
        "# Classification Report\n",
        "target_names = ['non-cancerous', 'cancerous']  # Assuming 0 is non-cancerous and 1 is cancerous\n",
        "print(\"Classification Report:\")\n",
        "print(classification_report(y_test, y_pred_classes, target_names=target_names))\n"
      ],
      "metadata": {
        "colab": {
          "base_uri": "https://localhost:8080/",
          "height": 715
        },
        "id": "SGqqqu5FnNrp",
        "outputId": "0488062f-1511-4e07-f635-92c4fbab4e03"
      },
      "execution_count": null,
      "outputs": [
        {
          "output_type": "stream",
          "name": "stdout",
          "text": [
            "13/13 [==============================] - 63s 5s/step\n",
            "Confusion Matrix:\n",
            "[[186   6]\n",
            " [  9 188]]\n"
          ]
        },
        {
          "output_type": "display_data",
          "data": {
            "text/plain": [
              "<Figure size 640x480 with 1 Axes>"
            ],
            "image/png": "[encoded data removed]"
          },
          "metadata": {}
        },
        {
          "output_type": "stream",
          "name": "stdout",
          "text": [
            "Classification Report:\n",
            "               precision    recall  f1-score   support\n",
            "\n",
            "non-cancerous       0.95      0.97      0.96       192\n",
            "    cancerous       0.97      0.95      0.96       197\n",
            "\n",
            "     accuracy                           0.96       389\n",
            "    macro avg       0.96      0.96      0.96       389\n",
            " weighted avg       0.96      0.96      0.96       389\n",
            "\n"
          ]
        }
      ]
    }
  ],
  "metadata": {
    "colab": {
      "provenance": []
    },
    "kernelspec": {
      "display_name": "Python 3",
      "name": "python3"
    },
    "language_info": {
      "name": "python"
    }
  },
  "nbformat": 4,
  "nbformat_minor": 0
}